{
 "cells": [
  {
   "cell_type": "code",
   "execution_count": 33,
   "id": "1afe4965",
   "metadata": {},
   "outputs": [],
   "source": [
    "import pandas as pd\n",
    "%matplotlib inline\n",
    "import matplotlib.pyplot as plt\n",
    "import geopandas as gpd\n",
    "import seaborn as sns\n",
    "import numpy as np\n",
    "import tempfile\n",
    "import warnings\n",
    "import os\n",
    "\n",
    "warnings.filterwarnings(\"ignore\")\n",
    "\n",
    "pd.set_option('display.max_rows', None)  # Show all rows\n",
    "pd.set_option('display.max_columns', None)  # Show all columns\n"
   ]
  },
  {
   "cell_type": "markdown",
   "id": "07c483b6",
   "metadata": {},
   "source": [
    "## 1. Importing the data"
   ]
  },
  {
   "cell_type": "code",
   "execution_count": 34,
   "id": "d0380410",
   "metadata": {},
   "outputs": [],
   "source": [
    "sales_df = pd.read_csv('./data/fact_sales.csv')\n",
    "budget_df = pd.read_csv('./data/fact_budget.csv')\n",
    "prod_df = pd.read_csv('./data/dim_prod.csv')\n",
    "cust_df = pd.read_csv('./data/dim_cust.csv')"
   ]
  },
  {
   "cell_type": "markdown",
   "id": "61bf73e0",
   "metadata": {},
   "source": [
    "## 2. Exploratory Data Analysis "
   ]
  },
  {
   "cell_type": "markdown",
   "id": "833a8a2f",
   "metadata": {},
   "source": [
    "We will explore the datasets to identify and understand the information with more clarity"
   ]
  },
  {
   "cell_type": "markdown",
   "id": "c42f5e21",
   "metadata": {},
   "source": [
    "#### 2.1 Customer Database"
   ]
  },
  {
   "cell_type": "code",
   "execution_count": 35,
   "id": "cb2fde12",
   "metadata": {
    "scrolled": false
   },
   "outputs": [
    {
     "name": "stdout",
     "output_type": "stream",
     "text": [
      "<class 'pandas.core.frame.DataFrame'>\n",
      "RangeIndex: 18484 entries, 0 to 18483\n",
      "Data columns (total 4 columns):\n",
      " #   Column         Non-Null Count  Dtype \n",
      "---  ------         --------------  ----- \n",
      " 0   CustomerKey    18484 non-null  int64 \n",
      " 1   Full Name      18484 non-null  object\n",
      " 2   Gender         18484 non-null  object\n",
      " 3   Customer City  18484 non-null  object\n",
      "dtypes: int64(1), object(3)\n",
      "memory usage: 577.8+ KB\n"
     ]
    },
    {
     "data": {
      "text/html": [
       "<div>\n",
       "<style scoped>\n",
       "    .dataframe tbody tr th:only-of-type {\n",
       "        vertical-align: middle;\n",
       "    }\n",
       "\n",
       "    .dataframe tbody tr th {\n",
       "        vertical-align: top;\n",
       "    }\n",
       "\n",
       "    .dataframe thead th {\n",
       "        text-align: right;\n",
       "    }\n",
       "</style>\n",
       "<table border=\"1\" class=\"dataframe\">\n",
       "  <thead>\n",
       "    <tr style=\"text-align: right;\">\n",
       "      <th></th>\n",
       "      <th>CustomerKey</th>\n",
       "      <th>Full Name</th>\n",
       "      <th>Gender</th>\n",
       "      <th>Customer City</th>\n",
       "    </tr>\n",
       "  </thead>\n",
       "  <tbody>\n",
       "    <tr>\n",
       "      <th>0</th>\n",
       "      <td>11000</td>\n",
       "      <td>Jon Yang</td>\n",
       "      <td>Male</td>\n",
       "      <td>Rockhampton</td>\n",
       "    </tr>\n",
       "    <tr>\n",
       "      <th>1</th>\n",
       "      <td>11001</td>\n",
       "      <td>Eugene Huang</td>\n",
       "      <td>Male</td>\n",
       "      <td>Seaford</td>\n",
       "    </tr>\n",
       "    <tr>\n",
       "      <th>2</th>\n",
       "      <td>11002</td>\n",
       "      <td>Ruben Torres</td>\n",
       "      <td>Male</td>\n",
       "      <td>Hobart</td>\n",
       "    </tr>\n",
       "    <tr>\n",
       "      <th>3</th>\n",
       "      <td>11003</td>\n",
       "      <td>Christy Zhu</td>\n",
       "      <td>Female</td>\n",
       "      <td>North Ryde</td>\n",
       "    </tr>\n",
       "    <tr>\n",
       "      <th>4</th>\n",
       "      <td>11004</td>\n",
       "      <td>Elizabeth Johnson</td>\n",
       "      <td>Female</td>\n",
       "      <td>Wollongong</td>\n",
       "    </tr>\n",
       "  </tbody>\n",
       "</table>\n",
       "</div>"
      ],
      "text/plain": [
       "   CustomerKey          Full Name  Gender Customer City\n",
       "0        11000           Jon Yang    Male   Rockhampton\n",
       "1        11001       Eugene Huang    Male       Seaford\n",
       "2        11002       Ruben Torres    Male        Hobart\n",
       "3        11003        Christy Zhu  Female    North Ryde\n",
       "4        11004  Elizabeth Johnson  Female    Wollongong"
      ]
     },
     "execution_count": 35,
     "metadata": {},
     "output_type": "execute_result"
    }
   ],
   "source": [
    "# 2. Displaying Basic Information\n",
    "cust_df.info()\n",
    "cust_df.head()"
   ]
  },
  {
   "cell_type": "code",
   "execution_count": 36,
   "id": "603172eb",
   "metadata": {},
   "outputs": [
    {
     "name": "stdout",
     "output_type": "stream",
     "text": [
      "Unique counts: CustomerKey      18484\n",
      "Full Name        18400\n",
      "Gender               2\n",
      "Customer City      269\n",
      "dtype: int64\n"
     ]
    }
   ],
   "source": [
    "# 3. Unique Counts for Each Column\n",
    "unique_counts = cust_df.nunique()\n",
    "print(\"Unique counts:\", unique_counts)"
   ]
  },
  {
   "cell_type": "code",
   "execution_count": 37,
   "id": "bb02688d",
   "metadata": {},
   "outputs": [
    {
     "name": "stdout",
     "output_type": "stream",
     "text": [
      "Gender distribution: Gender\n",
      "Male      9351\n",
      "Female    9133\n",
      "Name: count, dtype: int64\n"
     ]
    }
   ],
   "source": [
    "# 4. Gender Distribution Analysis\n",
    "gender_distribution = cust_df['Gender'].value_counts()\n",
    "print(\"Gender distribution:\", gender_distribution)"
   ]
  },
  {
   "cell_type": "code",
   "execution_count": 38,
   "id": "41e486cf",
   "metadata": {},
   "outputs": [
    {
     "data": {
      "image/png": "[encoded data removed]",
      "text/plain": [
       "<Figure size 432x288 with 1 Axes>"
      ]
     },
     "metadata": {
      "needs_background": "light"
     },
     "output_type": "display_data"
    }
   ],
   "source": [
    "# Plot gender distribution\n",
    "gender_distribution.plot(kind='bar', title='Gender Distribution')\n",
    "plt.xlabel('Gender')\n",
    "plt.ylabel('Number of Customers')\n",
    "plt.show()\n"
   ]
  },
  {
   "cell_type": "code",
   "execution_count": 39,
   "id": "b6544539",
   "metadata": {},
   "outputs": [
    {
     "name": "stdout",
     "output_type": "stream",
     "text": [
      "Top 10 Customer Cities: Customer City\n",
      "London         420\n",
      "Paris          386\n",
      "Burien         212\n",
      "Concord        212\n",
      "Beaverton      210\n",
      "Bellingham     210\n",
      "Chula Vista    206\n",
      "Berkeley       200\n",
      "Burlingame     198\n",
      "Bellflower     194\n",
      "Name: count, dtype: int64\n"
     ]
    }
   ],
   "source": [
    "# 5. Customer City Distribution Analysis\n",
    "city_distribution = cust_df['Customer City'].value_counts().head(10)\n",
    "print(\"Top 10 Customer Cities:\", city_distribution)"
   ]
  },
  {
   "cell_type": "code",
   "execution_count": 40,
   "id": "6b1b93c3",
   "metadata": {},
   "outputs": [
    {
     "data": {
      "image/png": "[encoded data removed]",
      "text/plain": [
       "<Figure size 432x288 with 1 Axes>"
      ]
     },
     "metadata": {
      "needs_background": "light"
     },
     "output_type": "display_data"
    }
   ],
   "source": [
    "# Plot top 10 cities by customer count\n",
    "city_distribution.plot(kind='bar', title='Top 10 Customer Cities')\n",
    "plt.xlabel('City')\n",
    "plt.ylabel('Number of Customers')\n",
    "plt.xticks(rotation=45)\n",
    "plt.show()\n"
   ]
  },
  {
   "cell_type": "code",
   "execution_count": 41,
   "id": "51cc5319",
   "metadata": {},
   "outputs": [
    {
     "data": {
      "image/png": "[encoded data removed]",
      "text/plain": [
       "<Figure size 576x576 with 1 Axes>"
      ]
     },
     "metadata": {},
     "output_type": "display_data"
    }
   ],
   "source": [
    "# Analyze percentage contribution of the top cities\n",
    "city_percentage = (city_distribution / city_distribution.sum()) * 100\n",
    "\n",
    "# Plot as a pie chart\n",
    "city_percentage.plot(kind='pie', autopct='%1.1f%%', title='Percentage Contribution of Top 10 Cities', figsize=(8, 8))\n",
    "plt.ylabel('')\n",
    "plt.show()"
   ]
  },
  {
   "cell_type": "markdown",
   "id": "412f2cd0",
   "metadata": {},
   "source": [
    "#### 2.2 Sales Database: "
   ]
  },
  {
   "cell_type": "code",
   "execution_count": 42,
   "id": "28f30df0",
   "metadata": {
    "scrolled": true
   },
   "outputs": [
    {
     "data": {
      "text/html": [
       "<div>\n",
       "<style scoped>\n",
       "    .dataframe tbody tr th:only-of-type {\n",
       "        vertical-align: middle;\n",
       "    }\n",
       "\n",
       "    .dataframe tbody tr th {\n",
       "        vertical-align: top;\n",
       "    }\n",
       "\n",
       "    .dataframe thead th {\n",
       "        text-align: right;\n",
       "    }\n",
       "</style>\n",
       "<table border=\"1\" class=\"dataframe\">\n",
       "  <thead>\n",
       "    <tr style=\"text-align: right;\">\n",
       "      <th></th>\n",
       "      <th>ProductKey</th>\n",
       "      <th>OrderDateKey</th>\n",
       "      <th>CustomerKey</th>\n",
       "      <th>SalesOrderNumber</th>\n",
       "      <th>SalesAmount</th>\n",
       "    </tr>\n",
       "  </thead>\n",
       "  <tbody>\n",
       "    <tr>\n",
       "      <th>0</th>\n",
       "      <td>381</td>\n",
       "      <td>20220101</td>\n",
       "      <td>16942</td>\n",
       "      <td>SO46700</td>\n",
       "      <td>1000.4375</td>\n",
       "    </tr>\n",
       "    <tr>\n",
       "      <th>1</th>\n",
       "      <td>375</td>\n",
       "      <td>20220101</td>\n",
       "      <td>15114</td>\n",
       "      <td>SO46701</td>\n",
       "      <td>2181.5625</td>\n",
       "    </tr>\n",
       "    <tr>\n",
       "      <th>2</th>\n",
       "      <td>369</td>\n",
       "      <td>20220101</td>\n",
       "      <td>15116</td>\n",
       "      <td>SO46702</td>\n",
       "      <td>2443.3500</td>\n",
       "    </tr>\n",
       "    <tr>\n",
       "      <th>3</th>\n",
       "      <td>337</td>\n",
       "      <td>20220101</td>\n",
       "      <td>20576</td>\n",
       "      <td>SO46703</td>\n",
       "      <td>782.9900</td>\n",
       "    </tr>\n",
       "    <tr>\n",
       "      <th>4</th>\n",
       "      <td>370</td>\n",
       "      <td>20220101</td>\n",
       "      <td>13059</td>\n",
       "      <td>SO46704</td>\n",
       "      <td>2443.3500</td>\n",
       "    </tr>\n",
       "  </tbody>\n",
       "</table>\n",
       "</div>"
      ],
      "text/plain": [
       "   ProductKey  OrderDateKey  CustomerKey SalesOrderNumber  SalesAmount\n",
       "0         381      20220101        16942          SO46700    1000.4375\n",
       "1         375      20220101        15114          SO46701    2181.5625\n",
       "2         369      20220101        15116          SO46702    2443.3500\n",
       "3         337      20220101        20576          SO46703     782.9900\n",
       "4         370      20220101        13059          SO46704    2443.3500"
      ]
     },
     "execution_count": 42,
     "metadata": {},
     "output_type": "execute_result"
    }
   ],
   "source": [
    "sales_df.head()"
   ]
  },
  {
   "cell_type": "code",
   "execution_count": 43,
   "id": "5e40a2c0",
   "metadata": {},
   "outputs": [
    {
     "name": "stdout",
     "output_type": "stream",
     "text": [
      "Summary statistics for sales data:\n",
      "         ProductKey  OrderDateKey   CustomerKey   SalesAmount\n",
      "count  56198.000000  5.619800e+04  56198.000000  56198.000000\n",
      "mean     441.835635  2.023013e+07  18854.006299    394.925719\n",
      "std      118.058799  2.406533e+03   5403.779586    765.659753\n",
      "min      214.000000  2.022010e+07  11000.000000      2.290000\n",
      "25%      363.000000  2.023041e+07  14039.000000      7.950000\n",
      "50%      480.000000  2.023071e+07  18154.000000     29.990000\n",
      "75%      529.000000  2.023101e+07  23431.000000     69.990000\n",
      "max      606.000000  2.023123e+07  29483.000000   2443.350000\n"
     ]
    }
   ],
   "source": [
    "sales_summary = sales_df.describe()\n",
    "print(\"Summary statistics for sales data:\")\n",
    "print(sales_summary)"
   ]
  },
  {
   "cell_type": "code",
   "execution_count": 44,
   "id": "e4f08322",
   "metadata": {},
   "outputs": [
    {
     "data": {
      "image/png": "[encoded data removed]",
      "text/plain": [
       "<Figure size 432x288 with 1 Axes>"
      ]
     },
     "metadata": {
      "needs_background": "light"
     },
     "output_type": "display_data"
    }
   ],
   "source": [
    "if 'SalesAmount' in sales_df.columns:\n",
    "    sales_df['SalesAmount'].plot(kind='hist', title='Sales Amount Distribution', bins=20)\n",
    "    plt.xlabel('Sales Amount')\n",
    "    plt.ylabel('Frequency')\n",
    "    plt.show()"
   ]
  },
  {
   "cell_type": "code",
   "execution_count": 48,
   "id": "67a45127",
   "metadata": {},
   "outputs": [
    {
     "data": {
      "text/plain": [
       "ProductKey                   int64\n",
       "OrderDateKey                 int64\n",
       "CustomerKey                  int64\n",
       "SalesOrderNumber            object\n",
       "SalesAmount                float64\n",
       "DateKey             datetime64[ns]\n",
       "dtype: object"
      ]
     },
     "execution_count": 48,
     "metadata": {},
     "output_type": "execute_result"
    }
   ],
   "source": [
    "sales_df.dtypes"
   ]
  },
  {
   "cell_type": "code",
   "execution_count": 49,
   "id": "a1fd1f2d",
   "metadata": {
    "scrolled": true
   },
   "outputs": [
    {
     "data": {
      "image/png": "[encoded data removed]",
      "text/plain": [
       "<Figure size 432x288 with 1 Axes>"
      ]
     },
     "metadata": {
      "needs_background": "light"
     },
     "output_type": "display_data"
    }
   ],
   "source": [
    "if 'OrderDateKey' in sales_df.columns:\n",
    "    sales_df['OrderDateKey'] = pd.to_datetime(sales_df['OrderDateKey'], format='%Y%m%d')\n",
    "    sales_df['Month'] = sales_df['OrderDateKey'].dt.to_period('M')\n",
    "    sales_by_month = sales_df.groupby('Month')['SalesAmount'].sum()\n",
    "    sales_by_month.plot(kind='line', title='Monthly Sales Trend')\n",
    "    plt.xlabel('Month')\n",
    "    plt.ylabel('Total Sales Amount')\n",
    "    plt.show()\n"
   ]
  },
  {
   "cell_type": "markdown",
   "id": "1ef5ec10",
   "metadata": {},
   "source": [
    "#### 2.3 Product Database:"
   ]
  },
  {
   "cell_type": "code",
   "execution_count": 52,
   "id": "20aa9ead",
   "metadata": {},
   "outputs": [
    {
     "data": {
      "text/html": [
       "<div>\n",
       "<style scoped>\n",
       "    .dataframe tbody tr th:only-of-type {\n",
       "        vertical-align: middle;\n",
       "    }\n",
       "\n",
       "    .dataframe tbody tr th {\n",
       "        vertical-align: top;\n",
       "    }\n",
       "\n",
       "    .dataframe thead th {\n",
       "        text-align: right;\n",
       "    }\n",
       "</style>\n",
       "<table border=\"1\" class=\"dataframe\">\n",
       "  <thead>\n",
       "    <tr style=\"text-align: right;\">\n",
       "      <th></th>\n",
       "      <th>ProductKey</th>\n",
       "      <th>Product Name</th>\n",
       "      <th>Sub Category</th>\n",
       "      <th>Product Category</th>\n",
       "      <th>Product Status</th>\n",
       "    </tr>\n",
       "  </thead>\n",
       "  <tbody>\n",
       "    <tr>\n",
       "      <th>0</th>\n",
       "      <td>1</td>\n",
       "      <td>Adjustable Race</td>\n",
       "      <td>Uncategorized</td>\n",
       "      <td>Uncategorized</td>\n",
       "      <td>Current</td>\n",
       "    </tr>\n",
       "    <tr>\n",
       "      <th>1</th>\n",
       "      <td>2</td>\n",
       "      <td>Bearing Ball</td>\n",
       "      <td>Uncategorized</td>\n",
       "      <td>Uncategorized</td>\n",
       "      <td>Current</td>\n",
       "    </tr>\n",
       "    <tr>\n",
       "      <th>2</th>\n",
       "      <td>3</td>\n",
       "      <td>BB Ball Bearing</td>\n",
       "      <td>Uncategorized</td>\n",
       "      <td>Uncategorized</td>\n",
       "      <td>Current</td>\n",
       "    </tr>\n",
       "    <tr>\n",
       "      <th>3</th>\n",
       "      <td>4</td>\n",
       "      <td>Headset Ball Bearings</td>\n",
       "      <td>Uncategorized</td>\n",
       "      <td>Uncategorized</td>\n",
       "      <td>Current</td>\n",
       "    </tr>\n",
       "    <tr>\n",
       "      <th>4</th>\n",
       "      <td>5</td>\n",
       "      <td>Blade</td>\n",
       "      <td>Uncategorized</td>\n",
       "      <td>Uncategorized</td>\n",
       "      <td>Current</td>\n",
       "    </tr>\n",
       "  </tbody>\n",
       "</table>\n",
       "</div>"
      ],
      "text/plain": [
       "   ProductKey           Product Name   Sub Category Product Category  \\\n",
       "0           1        Adjustable Race  Uncategorized    Uncategorized   \n",
       "1           2           Bearing Ball  Uncategorized    Uncategorized   \n",
       "2           3        BB Ball Bearing  Uncategorized    Uncategorized   \n",
       "3           4  Headset Ball Bearings  Uncategorized    Uncategorized   \n",
       "4           5                  Blade  Uncategorized    Uncategorized   \n",
       "\n",
       "  Product Status  \n",
       "0        Current  \n",
       "1        Current  \n",
       "2        Current  \n",
       "3        Current  \n",
       "4        Current  "
      ]
     },
     "execution_count": 52,
     "metadata": {},
     "output_type": "execute_result"
    }
   ],
   "source": [
    "prod_df.head()"
   ]
  },
  {
   "cell_type": "code",
   "execution_count": 50,
   "id": "f1efe16e",
   "metadata": {},
   "outputs": [
    {
     "name": "stdout",
     "output_type": "stream",
     "text": [
      "<class 'pandas.core.frame.DataFrame'>\n",
      "RangeIndex: 406 entries, 0 to 405\n",
      "Data columns (total 5 columns):\n",
      " #   Column            Non-Null Count  Dtype \n",
      "---  ------            --------------  ----- \n",
      " 0   ProductKey        406 non-null    int64 \n",
      " 1   Product Name      406 non-null    object\n",
      " 2   Sub Category      406 non-null    object\n",
      " 3   Product Category  406 non-null    object\n",
      " 4   Product Status    406 non-null    object\n",
      "dtypes: int64(1), object(4)\n",
      "memory usage: 16.0+ KB\n"
     ]
    }
   ],
   "source": [
    "prod_df.info()"
   ]
  },
  {
   "cell_type": "code",
   "execution_count": 85,
   "id": "61752a6e",
   "metadata": {},
   "outputs": [],
   "source": [
    "# Analyze product distribution by categories\n",
    "cat_dist = prod_df[prod_df['Product Category'] != 'Uncategorized']['Product Category'].value_counts()"
   ]
  },
  {
   "cell_type": "code",
   "execution_count": 86,
   "id": "413239b4",
   "metadata": {},
   "outputs": [
    {
     "data": {
      "image/png": "[encoded data removed]",
      "text/plain": [
       "<Figure size 576x432 with 1 Axes>"
      ]
     },
     "metadata": {
      "needs_background": "light"
     },
     "output_type": "display_data"
    }
   ],
   "source": [
    "# Plot the distribution by categories\n",
    "cat_dist.plot(kind='bar', title='Product Distribution by Categories', figsize=(8, 6))\n",
    "plt.xlabel('Product Category')\n",
    "plt.ylabel('Number of Products')\n",
    "plt.xticks(rotation=45)\n",
    "plt.show()"
   ]
  }
 ],
 "metadata": {
  "kernelspec": {
   "display_name": "Python 3 (ipykernel)",
   "language": "python",
   "name": "python3"
  },
  "language_info": {
   "codemirror_mode": {
    "name": "ipython",
    "version": 3
   },
   "file_extension": ".py",
   "mimetype": "text/x-python",
   "name": "python",
   "nbconvert_exporter": "python",
   "pygments_lexer": "ipython3",
   "version": "3.9.5"
  }
 },
 "nbformat": 4,
 "nbformat_minor": 5
}
