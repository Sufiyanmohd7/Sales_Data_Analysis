{
 "cells": [
  {
   "cell_type": "code",
   "execution_count": 71,
   "id": "d4814fc9",
   "metadata": {},
   "outputs": [],
   "source": [
    "import pyodbc\n",
    "import pandas as pd\n",
    "import warnings\n",
    "from datetime import datetime\n",
    "\n",
    "# Suppress all warnings\n",
    "warnings.filterwarnings(\"ignore\")"
   ]
  },
  {
   "cell_type": "markdown",
   "id": "d7054d16",
   "metadata": {},
   "source": [
    "### 1. Connecting to the SQL Server: "
   ]
  },
  {
   "cell_type": "code",
   "execution_count": 4,
   "id": "2bd5c6ec",
   "metadata": {},
   "outputs": [],
   "source": [
    "Server= 'Sufiyan-Workstation2\\SQLEXPRESS03'\n",
    "Database= 'AdventureWorksDW2022'"
   ]
  },
  {
   "cell_type": "code",
   "execution_count": 62,
   "id": "a968bb9d",
   "metadata": {},
   "outputs": [],
   "source": [
    "# Establishing SQL Server Connection\n",
    "cons = pyodbc.connect(\n",
    "        driver='{SQL Server}',\n",
    "        server=Server,\n",
    "        port='1433',\n",
    "        database=Database,\n",
    "        trusted_connection='yes')"
   ]
  },
  {
   "cell_type": "markdown",
   "id": "d2ce9957",
   "metadata": {},
   "source": [
    "### 2. Loading Relevant Data: "
   ]
  },
  {
   "cell_type": "code",
   "execution_count": 8,
   "id": "b61d591a",
   "metadata": {},
   "outputs": [
    {
     "data": {
      "text/html": [
       "<div>\n",
       "<style scoped>\n",
       "    .dataframe tbody tr th:only-of-type {\n",
       "        vertical-align: middle;\n",
       "    }\n",
       "\n",
       "    .dataframe tbody tr th {\n",
       "        vertical-align: top;\n",
       "    }\n",
       "\n",
       "    .dataframe thead th {\n",
       "        text-align: right;\n",
       "    }\n",
       "</style>\n",
       "<table border=\"1\" class=\"dataframe\">\n",
       "  <thead>\n",
       "    <tr style=\"text-align: right;\">\n",
       "      <th></th>\n",
       "      <th>CustomerKey</th>\n",
       "      <th>Full Name</th>\n",
       "      <th>Gender</th>\n",
       "      <th>Customer City</th>\n",
       "    </tr>\n",
       "  </thead>\n",
       "  <tbody>\n",
       "    <tr>\n",
       "      <th>0</th>\n",
       "      <td>11000</td>\n",
       "      <td>Jon Yang</td>\n",
       "      <td>Male</td>\n",
       "      <td>Rockhampton</td>\n",
       "    </tr>\n",
       "    <tr>\n",
       "      <th>1</th>\n",
       "      <td>11001</td>\n",
       "      <td>Eugene Huang</td>\n",
       "      <td>Male</td>\n",
       "      <td>Seaford</td>\n",
       "    </tr>\n",
       "    <tr>\n",
       "      <th>2</th>\n",
       "      <td>11002</td>\n",
       "      <td>Ruben Torres</td>\n",
       "      <td>Male</td>\n",
       "      <td>Hobart</td>\n",
       "    </tr>\n",
       "    <tr>\n",
       "      <th>3</th>\n",
       "      <td>11003</td>\n",
       "      <td>Christy Zhu</td>\n",
       "      <td>Female</td>\n",
       "      <td>North Ryde</td>\n",
       "    </tr>\n",
       "    <tr>\n",
       "      <th>4</th>\n",
       "      <td>11004</td>\n",
       "      <td>Elizabeth Johnson</td>\n",
       "      <td>Female</td>\n",
       "      <td>Wollongong</td>\n",
       "    </tr>\n",
       "  </tbody>\n",
       "</table>\n",
       "</div>"
      ],
      "text/plain": [
       "   CustomerKey          Full Name  Gender Customer City\n",
       "0        11000           Jon Yang    Male   Rockhampton\n",
       "1        11001       Eugene Huang    Male       Seaford\n",
       "2        11002       Ruben Torres    Male        Hobart\n",
       "3        11003        Christy Zhu  Female    North Ryde\n",
       "4        11004  Elizabeth Johnson  Female    Wollongong"
      ]
     },
     "execution_count": 8,
     "metadata": {},
     "output_type": "execute_result"
    }
   ],
   "source": [
    "dim_cust_query = \"\"\"\n",
    "\n",
    "SELECT \n",
    "  c.customerkey AS CustomerKey, \n",
    "  c.firstname + ' ' + lastname AS [Full Name],\n",
    "  CASE c.gender WHEN 'M' THEN 'Male' WHEN 'F' THEN 'Female' END AS Gender, \n",
    "  g.city AS [Customer City] -- Joined in Customer City from Geography Table\n",
    "FROM \n",
    "  dbo.dimcustomer AS c \n",
    "  LEFT JOIN dbo.DimGeography AS g ON g.geographykey = c.geographykey \n",
    "ORDER BY \n",
    "  CustomerKey ASC\n",
    "\"\"\"\n",
    "\n",
    "dim_cust_df = pd.read_sql(dim_cust_query, cons)\n",
    "\n",
    "dim_cust_df.head()"
   ]
  },
  {
   "cell_type": "code",
   "execution_count": 9,
   "id": "b32f0938",
   "metadata": {},
   "outputs": [
    {
     "data": {
      "text/html": [
       "<div>\n",
       "<style scoped>\n",
       "    .dataframe tbody tr th:only-of-type {\n",
       "        vertical-align: middle;\n",
       "    }\n",
       "\n",
       "    .dataframe tbody tr th {\n",
       "        vertical-align: top;\n",
       "    }\n",
       "\n",
       "    .dataframe thead th {\n",
       "        text-align: right;\n",
       "    }\n",
       "</style>\n",
       "<table border=\"1\" class=\"dataframe\">\n",
       "  <thead>\n",
       "    <tr style=\"text-align: right;\">\n",
       "      <th></th>\n",
       "      <th>ProductKey</th>\n",
       "      <th>Product Name</th>\n",
       "      <th>Sub Category</th>\n",
       "      <th>Product Category</th>\n",
       "      <th>Product Status</th>\n",
       "    </tr>\n",
       "  </thead>\n",
       "  <tbody>\n",
       "    <tr>\n",
       "      <th>0</th>\n",
       "      <td>1</td>\n",
       "      <td>Adjustable Race</td>\n",
       "      <td>None</td>\n",
       "      <td>None</td>\n",
       "      <td>Current</td>\n",
       "    </tr>\n",
       "    <tr>\n",
       "      <th>1</th>\n",
       "      <td>2</td>\n",
       "      <td>Bearing Ball</td>\n",
       "      <td>None</td>\n",
       "      <td>None</td>\n",
       "      <td>Current</td>\n",
       "    </tr>\n",
       "    <tr>\n",
       "      <th>2</th>\n",
       "      <td>3</td>\n",
       "      <td>BB Ball Bearing</td>\n",
       "      <td>None</td>\n",
       "      <td>None</td>\n",
       "      <td>Current</td>\n",
       "    </tr>\n",
       "    <tr>\n",
       "      <th>3</th>\n",
       "      <td>4</td>\n",
       "      <td>Headset Ball Bearings</td>\n",
       "      <td>None</td>\n",
       "      <td>None</td>\n",
       "      <td>Current</td>\n",
       "    </tr>\n",
       "    <tr>\n",
       "      <th>4</th>\n",
       "      <td>5</td>\n",
       "      <td>Blade</td>\n",
       "      <td>None</td>\n",
       "      <td>None</td>\n",
       "      <td>Current</td>\n",
       "    </tr>\n",
       "  </tbody>\n",
       "</table>\n",
       "</div>"
      ],
      "text/plain": [
       "   ProductKey           Product Name Sub Category Product Category  \\\n",
       "0           1        Adjustable Race         None             None   \n",
       "1           2           Bearing Ball         None             None   \n",
       "2           3        BB Ball Bearing         None             None   \n",
       "3           4  Headset Ball Bearings         None             None   \n",
       "4           5                  Blade         None             None   \n",
       "\n",
       "  Product Status  \n",
       "0        Current  \n",
       "1        Current  \n",
       "2        Current  \n",
       "3        Current  \n",
       "4        Current  "
      ]
     },
     "execution_count": 9,
     "metadata": {},
     "output_type": "execute_result"
    }
   ],
   "source": [
    "dim_prod_query = \"\"\"\n",
    "SELECT \n",
    "  p.[ProductKey],  \n",
    "  p.[EnglishProductName] AS [Product Name], \n",
    "  ps.EnglishProductSubcategoryName AS [Sub Category],\n",
    "  pc.EnglishProductCategoryName AS [Product Category], \n",
    "  ISNULL(p.Status, 'Outdated') AS [Product Status] \n",
    "FROM \n",
    "  [dbo].[DimProduct] AS p \n",
    "  LEFT JOIN dbo.DimProductSubcategory AS ps ON ps.ProductSubcategoryKey = p.ProductSubcategoryKey \n",
    "  LEFT JOIN dbo.DimProductCategory AS pc ON ps.ProductCategoryKey = pc.ProductCategoryKey \n",
    "ORDER BY \n",
    "  p.ProductKey ASC\n",
    "\"\"\"\n",
    "\n",
    "dim_prod_df = pd.read_sql(dim_prod_query, cons)\n",
    "\n",
    "dim_prod_df.head()"
   ]
  },
  {
   "cell_type": "markdown",
   "id": "a508222a",
   "metadata": {},
   "source": [
    "The Sales data was selected for 2022-2023 and downloaded from the Server along with the budget data"
   ]
  },
  {
   "cell_type": "code",
   "execution_count": 100,
   "id": "8b249ae0",
   "metadata": {},
   "outputs": [],
   "source": [
    "fact_sales_df = pd.read_csv(\"FACT_InternetSales.csv\")"
   ]
  },
  {
   "cell_type": "code",
   "execution_count": 101,
   "id": "178f7a9a",
   "metadata": {},
   "outputs": [
    {
     "data": {
      "text/html": [
       "<div>\n",
       "<style scoped>\n",
       "    .dataframe tbody tr th:only-of-type {\n",
       "        vertical-align: middle;\n",
       "    }\n",
       "\n",
       "    .dataframe tbody tr th {\n",
       "        vertical-align: top;\n",
       "    }\n",
       "\n",
       "    .dataframe thead th {\n",
       "        text-align: right;\n",
       "    }\n",
       "</style>\n",
       "<table border=\"1\" class=\"dataframe\">\n",
       "  <thead>\n",
       "    <tr style=\"text-align: right;\">\n",
       "      <th></th>\n",
       "      <th>ProductKey</th>\n",
       "      <th>OrderDateKey</th>\n",
       "      <th>CustomerKey</th>\n",
       "      <th>SalesOrderNumber</th>\n",
       "      <th>SalesAmount</th>\n",
       "    </tr>\n",
       "  </thead>\n",
       "  <tbody>\n",
       "    <tr>\n",
       "      <th>0</th>\n",
       "      <td>381</td>\n",
       "      <td>20220101</td>\n",
       "      <td>16942</td>\n",
       "      <td>SO46700</td>\n",
       "      <td>1000.4375</td>\n",
       "    </tr>\n",
       "    <tr>\n",
       "      <th>1</th>\n",
       "      <td>375</td>\n",
       "      <td>20220101</td>\n",
       "      <td>15114</td>\n",
       "      <td>SO46701</td>\n",
       "      <td>2181.5625</td>\n",
       "    </tr>\n",
       "    <tr>\n",
       "      <th>2</th>\n",
       "      <td>369</td>\n",
       "      <td>20220101</td>\n",
       "      <td>15116</td>\n",
       "      <td>SO46702</td>\n",
       "      <td>2443.3500</td>\n",
       "    </tr>\n",
       "    <tr>\n",
       "      <th>3</th>\n",
       "      <td>337</td>\n",
       "      <td>20220101</td>\n",
       "      <td>20576</td>\n",
       "      <td>SO46703</td>\n",
       "      <td>782.9900</td>\n",
       "    </tr>\n",
       "    <tr>\n",
       "      <th>4</th>\n",
       "      <td>370</td>\n",
       "      <td>20220101</td>\n",
       "      <td>13059</td>\n",
       "      <td>SO46704</td>\n",
       "      <td>2443.3500</td>\n",
       "    </tr>\n",
       "  </tbody>\n",
       "</table>\n",
       "</div>"
      ],
      "text/plain": [
       "   ProductKey  OrderDateKey  CustomerKey SalesOrderNumber  SalesAmount\n",
       "0         381      20220101        16942          SO46700    1000.4375\n",
       "1         375      20220101        15114          SO46701    2181.5625\n",
       "2         369      20220101        15116          SO46702    2443.3500\n",
       "3         337      20220101        20576          SO46703     782.9900\n",
       "4         370      20220101        13059          SO46704    2443.3500"
      ]
     },
     "execution_count": 101,
     "metadata": {},
     "output_type": "execute_result"
    }
   ],
   "source": [
    "fact_sales_df.head()"
   ]
  },
  {
   "cell_type": "code",
   "execution_count": 103,
   "id": "a8edb964",
   "metadata": {},
   "outputs": [
    {
     "data": {
      "text/html": [
       "<div>\n",
       "<style scoped>\n",
       "    .dataframe tbody tr th:only-of-type {\n",
       "        vertical-align: middle;\n",
       "    }\n",
       "\n",
       "    .dataframe tbody tr th {\n",
       "        vertical-align: top;\n",
       "    }\n",
       "\n",
       "    .dataframe thead th {\n",
       "        text-align: right;\n",
       "    }\n",
       "</style>\n",
       "<table border=\"1\" class=\"dataframe\">\n",
       "  <thead>\n",
       "    <tr style=\"text-align: right;\">\n",
       "      <th></th>\n",
       "      <th>Date</th>\n",
       "      <th>Budget</th>\n",
       "    </tr>\n",
       "  </thead>\n",
       "  <tbody>\n",
       "    <tr>\n",
       "      <th>0</th>\n",
       "      <td>January-22</td>\n",
       "      <td>379665</td>\n",
       "    </tr>\n",
       "    <tr>\n",
       "      <th>1</th>\n",
       "      <td>February-22</td>\n",
       "      <td>360220</td>\n",
       "    </tr>\n",
       "    <tr>\n",
       "      <th>2</th>\n",
       "      <td>March-22</td>\n",
       "      <td>391676</td>\n",
       "    </tr>\n",
       "    <tr>\n",
       "      <th>3</th>\n",
       "      <td>April-22</td>\n",
       "      <td>374843</td>\n",
       "    </tr>\n",
       "    <tr>\n",
       "      <th>4</th>\n",
       "      <td>May-22</td>\n",
       "      <td>371747</td>\n",
       "    </tr>\n",
       "  </tbody>\n",
       "</table>\n",
       "</div>"
      ],
      "text/plain": [
       "          Date  Budget\n",
       "0   January-22  379665\n",
       "1  February-22  360220\n",
       "2     March-22  391676\n",
       "3     April-22  374843\n",
       "4       May-22  371747"
      ]
     },
     "execution_count": 103,
     "metadata": {},
     "output_type": "execute_result"
    }
   ],
   "source": [
    "fact_budget_df = pd.read_csv(\"Budget_Data.csv\")\n",
    "fact_budget_df.head()"
   ]
  },
  {
   "cell_type": "markdown",
   "id": "713979bc",
   "metadata": {},
   "source": [
    "## 3. Data Cleaning: "
   ]
  },
  {
   "cell_type": "markdown",
   "id": "23fa9500",
   "metadata": {},
   "source": [
    "The data is now looked at and then cleaned (missing values check, NaN errors, formats)"
   ]
  },
  {
   "cell_type": "markdown",
   "id": "c063bc77",
   "metadata": {},
   "source": [
    "### 3.1 Missing values analysis:"
   ]
  },
  {
   "cell_type": "markdown",
   "id": "ddbcf1cd",
   "metadata": {},
   "source": [
    "#### Customer Database:"
   ]
  },
  {
   "cell_type": "code",
   "execution_count": 55,
   "id": "971cd5b4",
   "metadata": {},
   "outputs": [
    {
     "data": {
      "text/html": [
       "<div>\n",
       "<style scoped>\n",
       "    .dataframe tbody tr th:only-of-type {\n",
       "        vertical-align: middle;\n",
       "    }\n",
       "\n",
       "    .dataframe tbody tr th {\n",
       "        vertical-align: top;\n",
       "    }\n",
       "\n",
       "    .dataframe thead th {\n",
       "        text-align: right;\n",
       "    }\n",
       "</style>\n",
       "<table border=\"1\" class=\"dataframe\">\n",
       "  <thead>\n",
       "    <tr style=\"text-align: right;\">\n",
       "      <th></th>\n",
       "      <th>CustomerKey</th>\n",
       "      <th>Full Name</th>\n",
       "      <th>Gender</th>\n",
       "      <th>Customer City</th>\n",
       "    </tr>\n",
       "  </thead>\n",
       "  <tbody>\n",
       "    <tr>\n",
       "      <th>0</th>\n",
       "      <td>11000</td>\n",
       "      <td>Jon Yang</td>\n",
       "      <td>Male</td>\n",
       "      <td>Rockhampton</td>\n",
       "    </tr>\n",
       "    <tr>\n",
       "      <th>1</th>\n",
       "      <td>11001</td>\n",
       "      <td>Eugene Huang</td>\n",
       "      <td>Male</td>\n",
       "      <td>Seaford</td>\n",
       "    </tr>\n",
       "    <tr>\n",
       "      <th>2</th>\n",
       "      <td>11002</td>\n",
       "      <td>Ruben Torres</td>\n",
       "      <td>Male</td>\n",
       "      <td>Hobart</td>\n",
       "    </tr>\n",
       "    <tr>\n",
       "      <th>3</th>\n",
       "      <td>11003</td>\n",
       "      <td>Christy Zhu</td>\n",
       "      <td>Female</td>\n",
       "      <td>North Ryde</td>\n",
       "    </tr>\n",
       "    <tr>\n",
       "      <th>4</th>\n",
       "      <td>11004</td>\n",
       "      <td>Elizabeth Johnson</td>\n",
       "      <td>Female</td>\n",
       "      <td>Wollongong</td>\n",
       "    </tr>\n",
       "  </tbody>\n",
       "</table>\n",
       "</div>"
      ],
      "text/plain": [
       "   CustomerKey          Full Name  Gender Customer City\n",
       "0        11000           Jon Yang    Male   Rockhampton\n",
       "1        11001       Eugene Huang    Male       Seaford\n",
       "2        11002       Ruben Torres    Male        Hobart\n",
       "3        11003        Christy Zhu  Female    North Ryde\n",
       "4        11004  Elizabeth Johnson  Female    Wollongong"
      ]
     },
     "execution_count": 55,
     "metadata": {},
     "output_type": "execute_result"
    }
   ],
   "source": [
    "dim_cust_df.head()"
   ]
  },
  {
   "cell_type": "code",
   "execution_count": 12,
   "id": "709c1f60",
   "metadata": {},
   "outputs": [
    {
     "name": "stdout",
     "output_type": "stream",
     "text": [
      "Series([], dtype: int64)\n"
     ]
    }
   ],
   "source": [
    "print(dim_cust_df.isnull().sum()[dim_cust_df.isnull().sum() > 0])"
   ]
  },
  {
   "cell_type": "code",
   "execution_count": null,
   "id": "e7acfe7e",
   "metadata": {},
   "outputs": [],
   "source": []
  },
  {
   "cell_type": "markdown",
   "id": "514d9695",
   "metadata": {},
   "source": [
    "#### Product Database:"
   ]
  },
  {
   "cell_type": "code",
   "execution_count": 56,
   "id": "87e510b6",
   "metadata": {},
   "outputs": [
    {
     "data": {
      "text/html": [
       "<div>\n",
       "<style scoped>\n",
       "    .dataframe tbody tr th:only-of-type {\n",
       "        vertical-align: middle;\n",
       "    }\n",
       "\n",
       "    .dataframe tbody tr th {\n",
       "        vertical-align: top;\n",
       "    }\n",
       "\n",
       "    .dataframe thead th {\n",
       "        text-align: right;\n",
       "    }\n",
       "</style>\n",
       "<table border=\"1\" class=\"dataframe\">\n",
       "  <thead>\n",
       "    <tr style=\"text-align: right;\">\n",
       "      <th></th>\n",
       "      <th>ProductKey</th>\n",
       "      <th>Product Name</th>\n",
       "      <th>Sub Category</th>\n",
       "      <th>Product Category</th>\n",
       "      <th>Product Status</th>\n",
       "    </tr>\n",
       "  </thead>\n",
       "  <tbody>\n",
       "    <tr>\n",
       "      <th>0</th>\n",
       "      <td>1</td>\n",
       "      <td>Adjustable Race</td>\n",
       "      <td>Uncategorized</td>\n",
       "      <td>Uncategorized</td>\n",
       "      <td>Current</td>\n",
       "    </tr>\n",
       "    <tr>\n",
       "      <th>1</th>\n",
       "      <td>2</td>\n",
       "      <td>Bearing Ball</td>\n",
       "      <td>Uncategorized</td>\n",
       "      <td>Uncategorized</td>\n",
       "      <td>Current</td>\n",
       "    </tr>\n",
       "    <tr>\n",
       "      <th>2</th>\n",
       "      <td>3</td>\n",
       "      <td>BB Ball Bearing</td>\n",
       "      <td>Uncategorized</td>\n",
       "      <td>Uncategorized</td>\n",
       "      <td>Current</td>\n",
       "    </tr>\n",
       "    <tr>\n",
       "      <th>3</th>\n",
       "      <td>4</td>\n",
       "      <td>Headset Ball Bearings</td>\n",
       "      <td>Uncategorized</td>\n",
       "      <td>Uncategorized</td>\n",
       "      <td>Current</td>\n",
       "    </tr>\n",
       "    <tr>\n",
       "      <th>4</th>\n",
       "      <td>5</td>\n",
       "      <td>Blade</td>\n",
       "      <td>Uncategorized</td>\n",
       "      <td>Uncategorized</td>\n",
       "      <td>Current</td>\n",
       "    </tr>\n",
       "  </tbody>\n",
       "</table>\n",
       "</div>"
      ],
      "text/plain": [
       "   ProductKey           Product Name   Sub Category Product Category  \\\n",
       "0           1        Adjustable Race  Uncategorized    Uncategorized   \n",
       "1           2           Bearing Ball  Uncategorized    Uncategorized   \n",
       "2           3        BB Ball Bearing  Uncategorized    Uncategorized   \n",
       "3           4  Headset Ball Bearings  Uncategorized    Uncategorized   \n",
       "4           5                  Blade  Uncategorized    Uncategorized   \n",
       "\n",
       "  Product Status  \n",
       "0        Current  \n",
       "1        Current  \n",
       "2        Current  \n",
       "3        Current  \n",
       "4        Current  "
      ]
     },
     "execution_count": 56,
     "metadata": {},
     "output_type": "execute_result"
    }
   ],
   "source": [
    "dim_prod_df.head()"
   ]
  },
  {
   "cell_type": "code",
   "execution_count": 35,
   "id": "bab40961",
   "metadata": {},
   "outputs": [
    {
     "name": "stdout",
     "output_type": "stream",
     "text": [
      "2\n"
     ]
    }
   ],
   "source": [
    "unique_product_keys = dim_prod_df['Product Status'].nunique()\n",
    "print(unique_product_keys)"
   ]
  },
  {
   "cell_type": "code",
   "execution_count": 36,
   "id": "b9d7552f",
   "metadata": {},
   "outputs": [
    {
     "name": "stdout",
     "output_type": "stream",
     "text": [
      "['Current' 'Outdate']\n"
     ]
    }
   ],
   "source": [
    "print(dim_prod_df['Product Status'].unique())"
   ]
  },
  {
   "cell_type": "code",
   "execution_count": 37,
   "id": "af4719b1",
   "metadata": {},
   "outputs": [],
   "source": [
    "dim_prod_df = dim_prod_df[dim_prod_df['Product Status'] != 'Outdate']"
   ]
  },
  {
   "cell_type": "code",
   "execution_count": 38,
   "id": "4e3f41dd",
   "metadata": {
    "scrolled": true
   },
   "outputs": [
    {
     "data": {
      "text/html": [
       "<div>\n",
       "<style scoped>\n",
       "    .dataframe tbody tr th:only-of-type {\n",
       "        vertical-align: middle;\n",
       "    }\n",
       "\n",
       "    .dataframe tbody tr th {\n",
       "        vertical-align: top;\n",
       "    }\n",
       "\n",
       "    .dataframe thead th {\n",
       "        text-align: right;\n",
       "    }\n",
       "</style>\n",
       "<table border=\"1\" class=\"dataframe\">\n",
       "  <thead>\n",
       "    <tr style=\"text-align: right;\">\n",
       "      <th></th>\n",
       "      <th>ProductKey</th>\n",
       "      <th>Product Name</th>\n",
       "      <th>Sub Category</th>\n",
       "      <th>Product Category</th>\n",
       "      <th>Product Status</th>\n",
       "    </tr>\n",
       "  </thead>\n",
       "  <tbody>\n",
       "    <tr>\n",
       "      <th>0</th>\n",
       "      <td>1</td>\n",
       "      <td>Adjustable Race</td>\n",
       "      <td>None</td>\n",
       "      <td>None</td>\n",
       "      <td>Current</td>\n",
       "    </tr>\n",
       "    <tr>\n",
       "      <th>1</th>\n",
       "      <td>2</td>\n",
       "      <td>Bearing Ball</td>\n",
       "      <td>None</td>\n",
       "      <td>None</td>\n",
       "      <td>Current</td>\n",
       "    </tr>\n",
       "    <tr>\n",
       "      <th>2</th>\n",
       "      <td>3</td>\n",
       "      <td>BB Ball Bearing</td>\n",
       "      <td>None</td>\n",
       "      <td>None</td>\n",
       "      <td>Current</td>\n",
       "    </tr>\n",
       "    <tr>\n",
       "      <th>3</th>\n",
       "      <td>4</td>\n",
       "      <td>Headset Ball Bearings</td>\n",
       "      <td>None</td>\n",
       "      <td>None</td>\n",
       "      <td>Current</td>\n",
       "    </tr>\n",
       "    <tr>\n",
       "      <th>4</th>\n",
       "      <td>5</td>\n",
       "      <td>Blade</td>\n",
       "      <td>None</td>\n",
       "      <td>None</td>\n",
       "      <td>Current</td>\n",
       "    </tr>\n",
       "  </tbody>\n",
       "</table>\n",
       "</div>"
      ],
      "text/plain": [
       "   ProductKey           Product Name Sub Category Product Category  \\\n",
       "0           1        Adjustable Race         None             None   \n",
       "1           2           Bearing Ball         None             None   \n",
       "2           3        BB Ball Bearing         None             None   \n",
       "3           4  Headset Ball Bearings         None             None   \n",
       "4           5                  Blade         None             None   \n",
       "\n",
       "  Product Status  \n",
       "0        Current  \n",
       "1        Current  \n",
       "2        Current  \n",
       "3        Current  \n",
       "4        Current  "
      ]
     },
     "execution_count": 38,
     "metadata": {},
     "output_type": "execute_result"
    }
   ],
   "source": [
    "dim_prod_df.head()"
   ]
  },
  {
   "cell_type": "code",
   "execution_count": 39,
   "id": "a3c03895",
   "metadata": {},
   "outputs": [
    {
     "name": "stdout",
     "output_type": "stream",
     "text": [
      "Sub Category        209\n",
      "Product Category    209\n",
      "dtype: int64\n"
     ]
    }
   ],
   "source": [
    "print(dim_prod_df.isnull().sum()[dim_prod_df.isnull().sum() > 0])"
   ]
  },
  {
   "cell_type": "code",
   "execution_count": 40,
   "id": "656de5af",
   "metadata": {},
   "outputs": [],
   "source": [
    "dim_prod_df['Product Category'].fillna('Uncategorized', inplace=True)\n",
    "dim_prod_df['Sub Category'].fillna('Uncategorized', inplace=True)\n"
   ]
  },
  {
   "cell_type": "markdown",
   "id": "4a9bd39e",
   "metadata": {},
   "source": [
    "For the product database, we first eliminated all rows where the `Product Status` was marked as \"Outdated\" to focus only on current products. Subsequently, we assigned the value \"Uncategorized\" to all missing entries in the `Product Category` and `Sub Category` columns to ensure data completeness and enable further analysis."
   ]
  },
  {
   "cell_type": "markdown",
   "id": "dfb01d51",
   "metadata": {},
   "source": [
    "#### Sales Database:"
   ]
  },
  {
   "cell_type": "code",
   "execution_count": 104,
   "id": "42f6b2dc",
   "metadata": {},
   "outputs": [
    {
     "data": {
      "text/html": [
       "<div>\n",
       "<style scoped>\n",
       "    .dataframe tbody tr th:only-of-type {\n",
       "        vertical-align: middle;\n",
       "    }\n",
       "\n",
       "    .dataframe tbody tr th {\n",
       "        vertical-align: top;\n",
       "    }\n",
       "\n",
       "    .dataframe thead th {\n",
       "        text-align: right;\n",
       "    }\n",
       "</style>\n",
       "<table border=\"1\" class=\"dataframe\">\n",
       "  <thead>\n",
       "    <tr style=\"text-align: right;\">\n",
       "      <th></th>\n",
       "      <th>ProductKey</th>\n",
       "      <th>OrderDateKey</th>\n",
       "      <th>CustomerKey</th>\n",
       "      <th>SalesOrderNumber</th>\n",
       "      <th>SalesAmount</th>\n",
       "    </tr>\n",
       "  </thead>\n",
       "  <tbody>\n",
       "    <tr>\n",
       "      <th>0</th>\n",
       "      <td>381</td>\n",
       "      <td>20220101</td>\n",
       "      <td>16942</td>\n",
       "      <td>SO46700</td>\n",
       "      <td>1000.4375</td>\n",
       "    </tr>\n",
       "    <tr>\n",
       "      <th>1</th>\n",
       "      <td>375</td>\n",
       "      <td>20220101</td>\n",
       "      <td>15114</td>\n",
       "      <td>SO46701</td>\n",
       "      <td>2181.5625</td>\n",
       "    </tr>\n",
       "    <tr>\n",
       "      <th>2</th>\n",
       "      <td>369</td>\n",
       "      <td>20220101</td>\n",
       "      <td>15116</td>\n",
       "      <td>SO46702</td>\n",
       "      <td>2443.3500</td>\n",
       "    </tr>\n",
       "    <tr>\n",
       "      <th>3</th>\n",
       "      <td>337</td>\n",
       "      <td>20220101</td>\n",
       "      <td>20576</td>\n",
       "      <td>SO46703</td>\n",
       "      <td>782.9900</td>\n",
       "    </tr>\n",
       "    <tr>\n",
       "      <th>4</th>\n",
       "      <td>370</td>\n",
       "      <td>20220101</td>\n",
       "      <td>13059</td>\n",
       "      <td>SO46704</td>\n",
       "      <td>2443.3500</td>\n",
       "    </tr>\n",
       "  </tbody>\n",
       "</table>\n",
       "</div>"
      ],
      "text/plain": [
       "   ProductKey  OrderDateKey  CustomerKey SalesOrderNumber  SalesAmount\n",
       "0         381      20220101        16942          SO46700    1000.4375\n",
       "1         375      20220101        15114          SO46701    2181.5625\n",
       "2         369      20220101        15116          SO46702    2443.3500\n",
       "3         337      20220101        20576          SO46703     782.9900\n",
       "4         370      20220101        13059          SO46704    2443.3500"
      ]
     },
     "execution_count": 104,
     "metadata": {},
     "output_type": "execute_result"
    }
   ],
   "source": [
    "fact_sales_df.head()"
   ]
  },
  {
   "cell_type": "code",
   "execution_count": 105,
   "id": "932efaac",
   "metadata": {},
   "outputs": [
    {
     "name": "stdout",
     "output_type": "stream",
     "text": [
      "Series([], dtype: int64)\n"
     ]
    }
   ],
   "source": [
    "print(fact_sales_df.isnull().sum()[fact_sales_df.isnull().sum() > 0])"
   ]
  },
  {
   "cell_type": "markdown",
   "id": "9fce0f97",
   "metadata": {},
   "source": [
    "#### Budget Dataset:"
   ]
  },
  {
   "cell_type": "code",
   "execution_count": 44,
   "id": "00ddb3cd",
   "metadata": {
    "scrolled": true
   },
   "outputs": [
    {
     "name": "stdout",
     "output_type": "stream",
     "text": [
      "Series([], dtype: int64)\n"
     ]
    }
   ],
   "source": [
    "print(fact_budget_df.isnull().sum()[fact_budget_df.isnull().sum() > 0])"
   ]
  },
  {
   "cell_type": "code",
   "execution_count": 46,
   "id": "7ac2abca",
   "metadata": {},
   "outputs": [
    {
     "data": {
      "text/plain": [
       "Date      object\n",
       "Budget     int64\n",
       "dtype: object"
      ]
     },
     "execution_count": 46,
     "metadata": {},
     "output_type": "execute_result"
    }
   ],
   "source": [
    "fact_budget_df.dtypes"
   ]
  },
  {
   "cell_type": "code",
   "execution_count": 52,
   "id": "4ce867ed",
   "metadata": {},
   "outputs": [],
   "source": [
    "fact_budget_df['DateKey'] = pd.to_datetime(fact_budget_df['Date'], format='%B-%y').dt.strftime('%Y%m')\n",
    "fact_budget_df.drop(columns=['Date'], inplace=True)"
   ]
  },
  {
   "cell_type": "code",
   "execution_count": 53,
   "id": "56549e24",
   "metadata": {},
   "outputs": [
    {
     "data": {
      "text/html": [
       "<div>\n",
       "<style scoped>\n",
       "    .dataframe tbody tr th:only-of-type {\n",
       "        vertical-align: middle;\n",
       "    }\n",
       "\n",
       "    .dataframe tbody tr th {\n",
       "        vertical-align: top;\n",
       "    }\n",
       "\n",
       "    .dataframe thead th {\n",
       "        text-align: right;\n",
       "    }\n",
       "</style>\n",
       "<table border=\"1\" class=\"dataframe\">\n",
       "  <thead>\n",
       "    <tr style=\"text-align: right;\">\n",
       "      <th></th>\n",
       "      <th>Budget</th>\n",
       "      <th>DateKey</th>\n",
       "    </tr>\n",
       "  </thead>\n",
       "  <tbody>\n",
       "    <tr>\n",
       "      <th>0</th>\n",
       "      <td>379665</td>\n",
       "      <td>202201</td>\n",
       "    </tr>\n",
       "    <tr>\n",
       "      <th>1</th>\n",
       "      <td>360220</td>\n",
       "      <td>202202</td>\n",
       "    </tr>\n",
       "    <tr>\n",
       "      <th>2</th>\n",
       "      <td>391676</td>\n",
       "      <td>202203</td>\n",
       "    </tr>\n",
       "    <tr>\n",
       "      <th>3</th>\n",
       "      <td>374843</td>\n",
       "      <td>202204</td>\n",
       "    </tr>\n",
       "    <tr>\n",
       "      <th>4</th>\n",
       "      <td>371747</td>\n",
       "      <td>202205</td>\n",
       "    </tr>\n",
       "  </tbody>\n",
       "</table>\n",
       "</div>"
      ],
      "text/plain": [
       "   Budget DateKey\n",
       "0  379665  202201\n",
       "1  360220  202202\n",
       "2  391676  202203\n",
       "3  374843  202204\n",
       "4  371747  202205"
      ]
     },
     "execution_count": 53,
     "metadata": {},
     "output_type": "execute_result"
    }
   ],
   "source": [
    "fact_budget_df.head()"
   ]
  },
  {
   "cell_type": "markdown",
   "id": "27d6e37e",
   "metadata": {},
   "source": [
    "For the budget dataset, we transformed the `Date` column into a standardized `DateKey` format representing the year and month (`YYYYMM`), ensuring compatibility with other datasets. We then dropped the original `Date` column to streamline the dataset, leaving only the relevant `Budget` and `DateKey` columns for further analysis."
   ]
  },
  {
   "cell_type": "code",
   "execution_count": 106,
   "id": "98414bdb",
   "metadata": {},
   "outputs": [],
   "source": [
    "fact_budget_df.to_csv('./data/fact_budget.csv', index=False)\n",
    "fact_sales_df.to_csv('./data/fact_sales.csv', index=False)\n",
    "dim_prod_df.to_csv('./data/dim_prod.csv', index=False)\n",
    "dim_cust_df.to_csv('./data/dim_cust.csv', index=False)"
   ]
  },
  {
   "cell_type": "code",
   "execution_count": null,
   "id": "5e725ec2",
   "metadata": {},
   "outputs": [],
   "source": []
  }
 ],
 "metadata": {
  "kernelspec": {
   "display_name": "Python 3 (ipykernel)",
   "language": "python",
   "name": "python3"
  },
  "language_info": {
   "codemirror_mode": {
    "name": "ipython",
    "version": 3
   },
   "file_extension": ".py",
   "mimetype": "text/x-python",
   "name": "python",
   "nbconvert_exporter": "python",
   "pygments_lexer": "ipython3",
   "version": "3.9.5"
  }
 },
 "nbformat": 4,
 "nbformat_minor": 5
}
