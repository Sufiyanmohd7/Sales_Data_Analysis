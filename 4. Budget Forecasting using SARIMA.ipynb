{
 "cells": [
  {
   "cell_type": "markdown",
   "id": "5eec2ac2",
   "metadata": {},
   "source": [
    "This notebook will showcase machine learning methods that can be used to predict the budget for the year 2024, using the sales data from 2022 - 2023. "
   ]
  },
  {
   "cell_type": "code",
   "execution_count": 28,
   "id": "1803c207",
   "metadata": {},
   "outputs": [],
   "source": [
    "import pandas as pd\n",
    "%matplotlib inline\n",
    "import matplotlib.pyplot as plt\n",
    "import warnings\n",
    "from sklearn.model_selection import train_test_split\n",
    "\n",
    "from statsmodels.tsa.statespace.sarimax import SARIMAX\n",
    "from statsmodels.graphics.tsaplots import plot_acf, plot_pacf\n",
    "\n",
    "\n",
    "warnings.filterwarnings(\"ignore\")\n",
    "\n",
    "pd.set_option('display.max_rows', None)  # Show all rows\n",
    "pd.set_option('display.max_columns', None)  # Show all columns"
   ]
  },
  {
   "cell_type": "markdown",
   "id": "9b2f061c",
   "metadata": {},
   "source": [
    "## Revenue Forecasting using SARIMA"
   ]
  },
  {
   "cell_type": "markdown",
   "id": "98c5f19c",
   "metadata": {},
   "source": [
    "### Loading the datasets"
   ]
  },
  {
   "cell_type": "code",
   "execution_count": 6,
   "id": "47ba6e2a",
   "metadata": {},
   "outputs": [],
   "source": [
    "sales_df = pd.read_csv(\"FACT_InternetSales_final.csv\")"
   ]
  },
  {
   "cell_type": "code",
   "execution_count": 7,
   "id": "23531634",
   "metadata": {
    "scrolled": true
   },
   "outputs": [
    {
     "data": {
      "text/html": [
       "<div>\n",
       "<style scoped>\n",
       "    .dataframe tbody tr th:only-of-type {\n",
       "        vertical-align: middle;\n",
       "    }\n",
       "\n",
       "    .dataframe tbody tr th {\n",
       "        vertical-align: top;\n",
       "    }\n",
       "\n",
       "    .dataframe thead th {\n",
       "        text-align: right;\n",
       "    }\n",
       "</style>\n",
       "<table border=\"1\" class=\"dataframe\">\n",
       "  <thead>\n",
       "    <tr style=\"text-align: right;\">\n",
       "      <th></th>\n",
       "      <th>ProductKey</th>\n",
       "      <th>OrderDateKey</th>\n",
       "      <th>CustomerKey</th>\n",
       "      <th>SalesOrderNumber</th>\n",
       "      <th>SalesAmount</th>\n",
       "    </tr>\n",
       "  </thead>\n",
       "  <tbody>\n",
       "    <tr>\n",
       "      <th>0</th>\n",
       "      <td>310</td>\n",
       "      <td>20201229</td>\n",
       "      <td>21768</td>\n",
       "      <td>SO43697</td>\n",
       "      <td>3578.2700</td>\n",
       "    </tr>\n",
       "    <tr>\n",
       "      <th>1</th>\n",
       "      <td>346</td>\n",
       "      <td>20201229</td>\n",
       "      <td>28389</td>\n",
       "      <td>SO43698</td>\n",
       "      <td>3399.9900</td>\n",
       "    </tr>\n",
       "    <tr>\n",
       "      <th>2</th>\n",
       "      <td>346</td>\n",
       "      <td>20201229</td>\n",
       "      <td>25863</td>\n",
       "      <td>SO43699</td>\n",
       "      <td>3399.9900</td>\n",
       "    </tr>\n",
       "    <tr>\n",
       "      <th>3</th>\n",
       "      <td>336</td>\n",
       "      <td>20201229</td>\n",
       "      <td>14501</td>\n",
       "      <td>SO43700</td>\n",
       "      <td>699.0982</td>\n",
       "    </tr>\n",
       "    <tr>\n",
       "      <th>4</th>\n",
       "      <td>346</td>\n",
       "      <td>20201229</td>\n",
       "      <td>11003</td>\n",
       "      <td>SO43701</td>\n",
       "      <td>3399.9900</td>\n",
       "    </tr>\n",
       "  </tbody>\n",
       "</table>\n",
       "</div>"
      ],
      "text/plain": [
       "   ProductKey  OrderDateKey  CustomerKey SalesOrderNumber  SalesAmount\n",
       "0         310      20201229        21768          SO43697    3578.2700\n",
       "1         346      20201229        28389          SO43698    3399.9900\n",
       "2         346      20201229        25863          SO43699    3399.9900\n",
       "3         336      20201229        14501          SO43700     699.0982\n",
       "4         346      20201229        11003          SO43701    3399.9900"
      ]
     },
     "execution_count": 7,
     "metadata": {},
     "output_type": "execute_result"
    }
   ],
   "source": [
    "sales_df.head()"
   ]
  },
  {
   "cell_type": "code",
   "execution_count": 8,
   "id": "ce8cfccf",
   "metadata": {},
   "outputs": [],
   "source": [
    "if 'OrderDateKey' in sales_df.columns and not pd.api.types.is_datetime64_any_dtype(sales_df['OrderDateKey']):\n",
    "    sales_df['OrderDateKey'] = pd.to_datetime(sales_df['OrderDateKey'], format='%Y%m%d')\n",
    "    sales_df['Month'] = sales_df['OrderDateKey'].dt.to_period('M')\n"
   ]
  },
  {
   "cell_type": "code",
   "execution_count": 9,
   "id": "5810487f",
   "metadata": {},
   "outputs": [
    {
     "data": {
      "text/html": [
       "<div>\n",
       "<style scoped>\n",
       "    .dataframe tbody tr th:only-of-type {\n",
       "        vertical-align: middle;\n",
       "    }\n",
       "\n",
       "    .dataframe tbody tr th {\n",
       "        vertical-align: top;\n",
       "    }\n",
       "\n",
       "    .dataframe thead th {\n",
       "        text-align: right;\n",
       "    }\n",
       "</style>\n",
       "<table border=\"1\" class=\"dataframe\">\n",
       "  <thead>\n",
       "    <tr style=\"text-align: right;\">\n",
       "      <th></th>\n",
       "      <th>ProductKey</th>\n",
       "      <th>OrderDateKey</th>\n",
       "      <th>CustomerKey</th>\n",
       "      <th>SalesOrderNumber</th>\n",
       "      <th>SalesAmount</th>\n",
       "      <th>Month</th>\n",
       "    </tr>\n",
       "  </thead>\n",
       "  <tbody>\n",
       "    <tr>\n",
       "      <th>0</th>\n",
       "      <td>310</td>\n",
       "      <td>2020-12-29</td>\n",
       "      <td>21768</td>\n",
       "      <td>SO43697</td>\n",
       "      <td>3578.2700</td>\n",
       "      <td>2020-12</td>\n",
       "    </tr>\n",
       "    <tr>\n",
       "      <th>1</th>\n",
       "      <td>346</td>\n",
       "      <td>2020-12-29</td>\n",
       "      <td>28389</td>\n",
       "      <td>SO43698</td>\n",
       "      <td>3399.9900</td>\n",
       "      <td>2020-12</td>\n",
       "    </tr>\n",
       "    <tr>\n",
       "      <th>2</th>\n",
       "      <td>346</td>\n",
       "      <td>2020-12-29</td>\n",
       "      <td>25863</td>\n",
       "      <td>SO43699</td>\n",
       "      <td>3399.9900</td>\n",
       "      <td>2020-12</td>\n",
       "    </tr>\n",
       "    <tr>\n",
       "      <th>3</th>\n",
       "      <td>336</td>\n",
       "      <td>2020-12-29</td>\n",
       "      <td>14501</td>\n",
       "      <td>SO43700</td>\n",
       "      <td>699.0982</td>\n",
       "      <td>2020-12</td>\n",
       "    </tr>\n",
       "    <tr>\n",
       "      <th>4</th>\n",
       "      <td>346</td>\n",
       "      <td>2020-12-29</td>\n",
       "      <td>11003</td>\n",
       "      <td>SO43701</td>\n",
       "      <td>3399.9900</td>\n",
       "      <td>2020-12</td>\n",
       "    </tr>\n",
       "  </tbody>\n",
       "</table>\n",
       "</div>"
      ],
      "text/plain": [
       "   ProductKey OrderDateKey  CustomerKey SalesOrderNumber  SalesAmount    Month\n",
       "0         310   2020-12-29        21768          SO43697    3578.2700  2020-12\n",
       "1         346   2020-12-29        28389          SO43698    3399.9900  2020-12\n",
       "2         346   2020-12-29        25863          SO43699    3399.9900  2020-12\n",
       "3         336   2020-12-29        14501          SO43700     699.0982  2020-12\n",
       "4         346   2020-12-29        11003          SO43701    3399.9900  2020-12"
      ]
     },
     "execution_count": 9,
     "metadata": {},
     "output_type": "execute_result"
    }
   ],
   "source": [
    "sales_df.head()"
   ]
  },
  {
   "cell_type": "code",
   "execution_count": 10,
   "id": "5caa097b",
   "metadata": {},
   "outputs": [
    {
     "data": {
      "text/plain": [
       "ProductKey                   int64\n",
       "OrderDateKey        datetime64[ns]\n",
       "CustomerKey                  int64\n",
       "SalesOrderNumber            object\n",
       "SalesAmount                float64\n",
       "Month                    period[M]\n",
       "dtype: object"
      ]
     },
     "execution_count": 10,
     "metadata": {},
     "output_type": "execute_result"
    }
   ],
   "source": [
    "sales_df.dtypes"
   ]
  },
  {
   "cell_type": "code",
   "execution_count": 11,
   "id": "7e208b6b",
   "metadata": {},
   "outputs": [],
   "source": [
    "# Aggregate monthly sales using pd.Grouper\n",
    "monthly_sales = sales_df.groupby(\n",
    "    pd.Grouper(key='OrderDateKey', freq='M')\n",
    ")['SalesAmount'].sum().reset_index()\n",
    "\n",
    "# Extract Year and Month from the aggregated data\n",
    "monthly_sales['Year'] = monthly_sales['OrderDateKey'].dt.year\n",
    "monthly_sales['Month'] = monthly_sales['OrderDateKey'].dt.month\n",
    "\n",
    "# Drop the original DateKey column if no longer needed\n",
    "monthly_sales = monthly_sales[['Year', 'Month', 'SalesAmount']]"
   ]
  },
  {
   "cell_type": "code",
   "execution_count": 12,
   "id": "32f34db1",
   "metadata": {},
   "outputs": [],
   "source": [
    "#dropping the january 2024 entry as the data is incomplete\n",
    "monthly_sales = monthly_sales.drop(index=0)\n",
    "monthly_sales = monthly_sales.drop(index=37)\n",
    "\n",
    "monthly_sales.reset_index(drop=True, inplace=True)"
   ]
  },
  {
   "cell_type": "code",
   "execution_count": 14,
   "id": "c8bf9699",
   "metadata": {},
   "outputs": [],
   "source": [
    "#separate table for monthly sales\n",
    "monthly_sales['Date'] = pd.to_datetime(monthly_sales['Year'].astype(str) + '-' + monthly_sales['Month'].astype(str) + '-01')\n",
    "monthly_sales.set_index('Date', inplace=True)"
   ]
  },
  {
   "cell_type": "code",
   "execution_count": 15,
   "id": "d0b60cdb",
   "metadata": {},
   "outputs": [
    {
     "data": {
      "text/html": [
       "<div>\n",
       "<style scoped>\n",
       "    .dataframe tbody tr th:only-of-type {\n",
       "        vertical-align: middle;\n",
       "    }\n",
       "\n",
       "    .dataframe tbody tr th {\n",
       "        vertical-align: top;\n",
       "    }\n",
       "\n",
       "    .dataframe thead th {\n",
       "        text-align: right;\n",
       "    }\n",
       "</style>\n",
       "<table border=\"1\" class=\"dataframe\">\n",
       "  <thead>\n",
       "    <tr style=\"text-align: right;\">\n",
       "      <th></th>\n",
       "      <th>Year</th>\n",
       "      <th>Month</th>\n",
       "      <th>SalesAmount</th>\n",
       "    </tr>\n",
       "    <tr>\n",
       "      <th>Date</th>\n",
       "      <th></th>\n",
       "      <th></th>\n",
       "      <th></th>\n",
       "    </tr>\n",
       "  </thead>\n",
       "  <tbody>\n",
       "    <tr>\n",
       "      <th>2021-01-01</th>\n",
       "      <td>2021</td>\n",
       "      <td>1</td>\n",
       "      <td>469823.9148</td>\n",
       "    </tr>\n",
       "    <tr>\n",
       "      <th>2021-02-01</th>\n",
       "      <td>2021</td>\n",
       "      <td>2</td>\n",
       "      <td>466334.9030</td>\n",
       "    </tr>\n",
       "    <tr>\n",
       "      <th>2021-03-01</th>\n",
       "      <td>2021</td>\n",
       "      <td>3</td>\n",
       "      <td>485198.6594</td>\n",
       "    </tr>\n",
       "    <tr>\n",
       "      <th>2021-04-01</th>\n",
       "      <td>2021</td>\n",
       "      <td>4</td>\n",
       "      <td>502073.8458</td>\n",
       "    </tr>\n",
       "    <tr>\n",
       "      <th>2021-05-01</th>\n",
       "      <td>2021</td>\n",
       "      <td>5</td>\n",
       "      <td>561681.4758</td>\n",
       "    </tr>\n",
       "  </tbody>\n",
       "</table>\n",
       "</div>"
      ],
      "text/plain": [
       "            Year  Month  SalesAmount\n",
       "Date                                \n",
       "2021-01-01  2021      1  469823.9148\n",
       "2021-02-01  2021      2  466334.9030\n",
       "2021-03-01  2021      3  485198.6594\n",
       "2021-04-01  2021      4  502073.8458\n",
       "2021-05-01  2021      5  561681.4758"
      ]
     },
     "execution_count": 15,
     "metadata": {},
     "output_type": "execute_result"
    }
   ],
   "source": [
    "monthly_sales.head()"
   ]
  },
  {
   "cell_type": "code",
   "execution_count": 16,
   "id": "c7f96248",
   "metadata": {},
   "outputs": [],
   "source": [
    "#monthly_sales.to_csv('./data/monthly_sales.csv', index=False)"
   ]
  },
  {
   "cell_type": "markdown",
   "id": "ecaeeb03",
   "metadata": {},
   "source": [
    "## SARIMA"
   ]
  },
  {
   "cell_type": "code",
   "execution_count": 21,
   "id": "1fd5d169",
   "metadata": {},
   "outputs": [
    {
     "data": {
      "text/html": [
       "<div>\n",
       "<style scoped>\n",
       "    .dataframe tbody tr th:only-of-type {\n",
       "        vertical-align: middle;\n",
       "    }\n",
       "\n",
       "    .dataframe tbody tr th {\n",
       "        vertical-align: top;\n",
       "    }\n",
       "\n",
       "    .dataframe thead th {\n",
       "        text-align: right;\n",
       "    }\n",
       "</style>\n",
       "<table border=\"1\" class=\"dataframe\">\n",
       "  <thead>\n",
       "    <tr style=\"text-align: right;\">\n",
       "      <th></th>\n",
       "      <th>Year</th>\n",
       "      <th>Month</th>\n",
       "      <th>SalesAmount</th>\n",
       "    </tr>\n",
       "  </thead>\n",
       "  <tbody>\n",
       "    <tr>\n",
       "      <th>0</th>\n",
       "      <td>2021</td>\n",
       "      <td>1</td>\n",
       "      <td>469823.9148</td>\n",
       "    </tr>\n",
       "    <tr>\n",
       "      <th>1</th>\n",
       "      <td>2021</td>\n",
       "      <td>2</td>\n",
       "      <td>466334.9030</td>\n",
       "    </tr>\n",
       "    <tr>\n",
       "      <th>2</th>\n",
       "      <td>2021</td>\n",
       "      <td>3</td>\n",
       "      <td>485198.6594</td>\n",
       "    </tr>\n",
       "    <tr>\n",
       "      <th>3</th>\n",
       "      <td>2021</td>\n",
       "      <td>4</td>\n",
       "      <td>502073.8458</td>\n",
       "    </tr>\n",
       "    <tr>\n",
       "      <th>4</th>\n",
       "      <td>2021</td>\n",
       "      <td>5</td>\n",
       "      <td>561681.4758</td>\n",
       "    </tr>\n",
       "  </tbody>\n",
       "</table>\n",
       "</div>"
      ],
      "text/plain": [
       "   Year  Month  SalesAmount\n",
       "0  2021      1  469823.9148\n",
       "1  2021      2  466334.9030\n",
       "2  2021      3  485198.6594\n",
       "3  2021      4  502073.8458\n",
       "4  2021      5  561681.4758"
      ]
     },
     "execution_count": 21,
     "metadata": {},
     "output_type": "execute_result"
    }
   ],
   "source": [
    "ms_df.head()"
   ]
  },
  {
   "cell_type": "code",
   "execution_count": 27,
   "id": "ac05e02e",
   "metadata": {},
   "outputs": [
    {
     "name": "stdout",
     "output_type": "stream",
     "text": [
      "                                     SARIMAX Results                                      \n",
      "==========================================================================================\n",
      "Dep. Variable:                        SalesAmount   No. Observations:                   36\n",
      "Model:             SARIMAX(1, 1, 1)x(1, 1, 1, 12)   Log Likelihood                -303.270\n",
      "Date:                            Sat, 14 Dec 2024   AIC                            616.541\n",
      "Time:                                    07:08:17   BIC                            622.218\n",
      "Sample:                                01-01-2021   HQIC                           617.969\n",
      "                                     - 12-01-2023                                         \n",
      "Covariance Type:                              opg                                         \n",
      "==============================================================================\n",
      "                 coef    std err          z      P>|z|      [0.025      0.975]\n",
      "------------------------------------------------------------------------------\n",
      "ar.L1         -0.5813      1.313     -0.443      0.658      -3.154       1.992\n",
      "ma.L1          0.3854      1.612      0.239      0.811      -2.775       3.545\n",
      "ar.S.L12      -0.7634      0.833     -0.917      0.359      -2.395       0.869\n",
      "ma.S.L12       0.1648      1.173      0.140      0.888      -2.134       2.463\n",
      "sigma2      2.851e+10   7.32e-11   3.89e+20      0.000    2.85e+10    2.85e+10\n",
      "===================================================================================\n",
      "Ljung-Box (L1) (Q):                   0.29   Jarque-Bera (JB):                 1.47\n",
      "Prob(Q):                              0.59   Prob(JB):                         0.48\n",
      "Heteroskedasticity (H):               4.33   Skew:                             0.61\n",
      "Prob(H) (two-sided):                  0.05   Kurtosis:                         2.84\n",
      "===================================================================================\n",
      "\n",
      "Warnings:\n",
      "[1] Covariance matrix calculated using the outer product of gradients (complex-step).\n",
      "[2] Covariance matrix is singular or near-singular, with condition number 4.39e+36. Standard errors may be unstable.\n"
     ]
    }
   ],
   "source": [
    "# Fit SARIMA model\n",
    "model = SARIMAX(monthly_sales['SalesAmount'], \n",
    "                order=(1, 1, 1), \n",
    "                seasonal_order=(1, 1, 1, 12))\n",
    "sarima_result = model.fit()\n",
    "\n",
    "# Forecast for 12 months\n",
    "forecast = sarima_result.forecast(steps=12)\n",
    "print(sarima_result.summary())"
   ]
  },
  {
   "cell_type": "code",
   "execution_count": 25,
   "id": "953dfc06",
   "metadata": {
    "scrolled": false
   },
   "outputs": [
    {
     "data": {
      "image/png": "[encoded data removed]",
      "text/plain": [
       "<Figure size 1080x432 with 1 Axes>"
      ]
     },
     "metadata": {
      "needs_background": "light"
     },
     "output_type": "display_data"
    }
   ],
   "source": [
    "# Plot the forecast\n",
    "plt.figure(figsize=(15, 6))\n",
    "plt.plot(monthly_sales.index, monthly_sales['SalesAmount'], label='Historical Data', color='blue')\n",
    "plt.plot(forecast.index, forecast, label='SARIMA Forecast', color='orange')\n",
    "plt.title('SARIMA Forecast')\n",
    "plt.legend()\n",
    "plt.show()"
   ]
  },
  {
   "cell_type": "markdown",
   "id": "1432e4c3",
   "metadata": {},
   "source": [
    "## Year-over-Year Growth Analysis"
   ]
  },
  {
   "cell_type": "code",
   "execution_count": 30,
   "id": "73c5985d",
   "metadata": {},
   "outputs": [
    {
     "data": {
      "text/html": [
       "<div>\n",
       "<style scoped>\n",
       "    .dataframe tbody tr th:only-of-type {\n",
       "        vertical-align: middle;\n",
       "    }\n",
       "\n",
       "    .dataframe tbody tr th {\n",
       "        vertical-align: top;\n",
       "    }\n",
       "\n",
       "    .dataframe thead th {\n",
       "        text-align: right;\n",
       "    }\n",
       "</style>\n",
       "<table border=\"1\" class=\"dataframe\">\n",
       "  <thead>\n",
       "    <tr style=\"text-align: right;\">\n",
       "      <th></th>\n",
       "      <th>Year</th>\n",
       "      <th>Month</th>\n",
       "      <th>SalesAmount</th>\n",
       "    </tr>\n",
       "    <tr>\n",
       "      <th>Date</th>\n",
       "      <th></th>\n",
       "      <th></th>\n",
       "      <th></th>\n",
       "    </tr>\n",
       "  </thead>\n",
       "  <tbody>\n",
       "    <tr>\n",
       "      <th>2021-01-01</th>\n",
       "      <td>2021</td>\n",
       "      <td>1</td>\n",
       "      <td>469823.9148</td>\n",
       "    </tr>\n",
       "    <tr>\n",
       "      <th>2021-02-01</th>\n",
       "      <td>2021</td>\n",
       "      <td>2</td>\n",
       "      <td>466334.9030</td>\n",
       "    </tr>\n",
       "    <tr>\n",
       "      <th>2021-03-01</th>\n",
       "      <td>2021</td>\n",
       "      <td>3</td>\n",
       "      <td>485198.6594</td>\n",
       "    </tr>\n",
       "    <tr>\n",
       "      <th>2021-04-01</th>\n",
       "      <td>2021</td>\n",
       "      <td>4</td>\n",
       "      <td>502073.8458</td>\n",
       "    </tr>\n",
       "    <tr>\n",
       "      <th>2021-05-01</th>\n",
       "      <td>2021</td>\n",
       "      <td>5</td>\n",
       "      <td>561681.4758</td>\n",
       "    </tr>\n",
       "  </tbody>\n",
       "</table>\n",
       "</div>"
      ],
      "text/plain": [
       "            Year  Month  SalesAmount\n",
       "Date                                \n",
       "2021-01-01  2021      1  469823.9148\n",
       "2021-02-01  2021      2  466334.9030\n",
       "2021-03-01  2021      3  485198.6594\n",
       "2021-04-01  2021      4  502073.8458\n",
       "2021-05-01  2021      5  561681.4758"
      ]
     },
     "execution_count": 30,
     "metadata": {},
     "output_type": "execute_result"
    }
   ],
   "source": [
    "monthly_sales.head()"
   ]
  },
  {
   "cell_type": "code",
   "execution_count": 31,
   "id": "3d50eb10",
   "metadata": {},
   "outputs": [
    {
     "data": {
      "text/html": [
       "<div>\n",
       "<style scoped>\n",
       "    .dataframe tbody tr th:only-of-type {\n",
       "        vertical-align: middle;\n",
       "    }\n",
       "\n",
       "    .dataframe tbody tr th {\n",
       "        vertical-align: top;\n",
       "    }\n",
       "\n",
       "    .dataframe thead th {\n",
       "        text-align: right;\n",
       "    }\n",
       "</style>\n",
       "<table border=\"1\" class=\"dataframe\">\n",
       "  <thead>\n",
       "    <tr style=\"text-align: right;\">\n",
       "      <th></th>\n",
       "      <th>Year</th>\n",
       "      <th>Month</th>\n",
       "      <th>SalesAmount</th>\n",
       "    </tr>\n",
       "    <tr>\n",
       "      <th>Date</th>\n",
       "      <th></th>\n",
       "      <th></th>\n",
       "      <th></th>\n",
       "    </tr>\n",
       "  </thead>\n",
       "  <tbody>\n",
       "    <tr>\n",
       "      <th>2023-08-01</th>\n",
       "      <td>2023</td>\n",
       "      <td>8</td>\n",
       "      <td>1551065.56</td>\n",
       "    </tr>\n",
       "    <tr>\n",
       "      <th>2023-09-01</th>\n",
       "      <td>2023</td>\n",
       "      <td>9</td>\n",
       "      <td>1447495.69</td>\n",
       "    </tr>\n",
       "    <tr>\n",
       "      <th>2023-10-01</th>\n",
       "      <td>2023</td>\n",
       "      <td>10</td>\n",
       "      <td>1673293.41</td>\n",
       "    </tr>\n",
       "    <tr>\n",
       "      <th>2023-11-01</th>\n",
       "      <td>2023</td>\n",
       "      <td>11</td>\n",
       "      <td>1780920.06</td>\n",
       "    </tr>\n",
       "    <tr>\n",
       "      <th>2023-12-01</th>\n",
       "      <td>2023</td>\n",
       "      <td>12</td>\n",
       "      <td>1874360.29</td>\n",
       "    </tr>\n",
       "  </tbody>\n",
       "</table>\n",
       "</div>"
      ],
      "text/plain": [
       "            Year  Month  SalesAmount\n",
       "Date                                \n",
       "2023-08-01  2023      8   1551065.56\n",
       "2023-09-01  2023      9   1447495.69\n",
       "2023-10-01  2023     10   1673293.41\n",
       "2023-11-01  2023     11   1780920.06\n",
       "2023-12-01  2023     12   1874360.29"
      ]
     },
     "execution_count": 31,
     "metadata": {},
     "output_type": "execute_result"
    }
   ],
   "source": [
    "monthly_sales.tail()"
   ]
  },
  {
   "cell_type": "code",
   "execution_count": 34,
   "id": "fa2cc8f0",
   "metadata": {
    "scrolled": true
   },
   "outputs": [
    {
     "data": {
      "text/plain": [
       "2024-01-01    1.786269e+06\n",
       "2024-02-01    1.763194e+06\n",
       "2024-03-01    1.777849e+06\n",
       "2024-04-01    1.794080e+06\n",
       "2024-05-01    1.853316e+06\n",
       "2024-06-01    2.113881e+06\n",
       "2024-07-01    1.944079e+06\n",
       "2024-08-01    2.069463e+06\n",
       "2024-09-01    2.002848e+06\n",
       "2024-10-01    2.115365e+06\n",
       "2024-11-01    2.166062e+06\n",
       "2024-12-01    2.262906e+06\n",
       "Freq: MS, Name: predicted_mean, dtype: float64"
      ]
     },
     "execution_count": 34,
     "metadata": {},
     "output_type": "execute_result"
    }
   ],
   "source": [
    "forecast"
   ]
  },
  {
   "cell_type": "code",
   "execution_count": 35,
   "id": "c3df4cec",
   "metadata": {
    "scrolled": true
   },
   "outputs": [
    {
     "name": "stdout",
     "output_type": "stream",
     "text": [
      "Current Year Growth (2023): 179.87%\n",
      "Forecasted Growth (2024): 44.63%\n"
     ]
    }
   ],
   "source": [
    "# Sum forecasted 2024 values to get total sales for 2024\n",
    "forecasted_2024_sales = forecast.sum()\n",
    "\n",
    "# Calculate yearly revenue, including the forecasted 2024 sales\n",
    "yearly_sales = monthly_sales.groupby('Year')['SalesAmount'].sum()\n",
    "yearly_sales.loc[2024] = forecasted_2024_sales  # Add the 2024 forecast\n",
    "\n",
    "# Calculate Year-over-Year growth rate\n",
    "yoy_growth = yearly_sales.pct_change() * 100\n",
    "\n",
    "# Get current year's (2023) growth and forecasted growth for 2024\n",
    "current_year_growth = yoy_growth.loc[2023]  # Growth from 2022 to 2023\n",
    "next_year_growth = yoy_growth.loc[2024]     # Forecasted growth from 2023 to 2024\n",
    "\n",
    "print(f\"Current Year Growth (2023): {current_year_growth:.2f}%\")\n",
    "print(f\"Forecasted Growth (2024): {next_year_growth:.2f}%\")\n"
   ]
  },
  {
   "cell_type": "code",
   "execution_count": null,
   "id": "6b00a05e",
   "metadata": {},
   "outputs": [],
   "source": []
  }
 ],
 "metadata": {
  "kernelspec": {
   "display_name": "Python 3 (ipykernel)",
   "language": "python",
   "name": "python3"
  },
  "language_info": {
   "codemirror_mode": {
    "name": "ipython",
    "version": 3
   },
   "file_extension": ".py",
   "mimetype": "text/x-python",
   "name": "python",
   "nbconvert_exporter": "python",
   "pygments_lexer": "ipython3",
   "version": "3.9.5"
  }
 },
 "nbformat": 4,
 "nbformat_minor": 5
}
